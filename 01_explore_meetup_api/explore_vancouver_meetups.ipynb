{
 "cells": [
  {
   "cell_type": "markdown",
   "metadata": {},
   "source": [
    "# Explore Vancouver Meetups"
   ]
  },
  {
   "cell_type": "code",
   "execution_count": 2,
   "metadata": {},
   "outputs": [],
   "source": [
    "import datetime\n",
    "import matplotlib.pyplot as plt\n",
    "import math\n",
    "import meetup.api\n",
    "import os\n",
    "import pandas as pd\n",
    "import pprint\n",
    "import requests\n",
    "\n",
    "%matplotlib inline"
   ]
  },
  {
   "cell_type": "code",
   "execution_count": 5,
   "metadata": {},
   "outputs": [],
   "source": [
    "client = meetup.api.Client()"
   ]
  },
  {
   "cell_type": "markdown",
   "metadata": {},
   "source": [
    "---"
   ]
  },
  {
   "cell_type": "markdown",
   "metadata": {},
   "source": [
    "## Categories"
   ]
  },
  {
   "cell_type": "code",
   "execution_count": 4,
   "metadata": {},
   "outputs": [
    {
     "name": "stdout",
     "output_type": "stream",
     "text": [
      "29/30 (10 seconds remaining)\n"
     ]
    }
   ],
   "source": [
    "categories = client.GetCategories()"
   ]
  },
  {
   "cell_type": "code",
   "execution_count": 6,
   "metadata": {},
   "outputs": [
    {
     "data": {
      "text/plain": [
       "{'next': '',\n",
       " 'method': 'Categories',\n",
       " 'total_count': 33,\n",
       " 'link': 'https://api.meetup.com/2/categories',\n",
       " 'count': 33,\n",
       " 'description': 'Returns a list of Meetup group categories',\n",
       " 'lon': 'None',\n",
       " 'title': 'Categories',\n",
       " 'url': 'https://api.meetup.com/2/categories?offset=0&format=json&page=200&key=48f48112b3058e21767448548572a&order=shortname&desc=false',\n",
       " 'id': '',\n",
       " 'updated': 1450292956000,\n",
       " 'lat': 'None'}"
      ]
     },
     "execution_count": 6,
     "metadata": {},
     "output_type": "execute_result"
    }
   ],
   "source": [
    "categories.meta"
   ]
  },
  {
   "cell_type": "code",
   "execution_count": 7,
   "metadata": {},
   "outputs": [
    {
     "name": "stdout",
     "output_type": "stream",
     "text": [
      "ID\tName\t\t\t\tShort Name\n",
      "1     Arts & Culture                Arts\n",
      "18    Book Clubs                    Book Clubs\n",
      "2     Career & Business             Business\n",
      "3     Cars & Motorcycles            Auto\n",
      "4     Community & Environment       Community\n",
      "5     Dancing                       Dancing\n",
      "6     Education & Learning          Education\n",
      "8     Fashion & Beauty              Fashion\n",
      "9     Fitness                       Fitness\n",
      "10    Food & Drink                  Food & Drink\n",
      "11    Games                         Games\n",
      "13    Movements & Politics          Movements\n",
      "14    Health & Wellbeing            Well-being\n",
      "15    Hobbies & Crafts              Crafts\n",
      "16    Language & Ethnic Identity    Languages\n",
      "12    LGBT                          LGBT\n",
      "17    Lifestyle                     Lifestyle\n",
      "20    Movies & Film                 Films\n",
      "21    Music                         Music\n",
      "22    New Age & Spirituality        Spirituality\n",
      "23    Outdoors & Adventure          Outdoors\n",
      "24    Paranormal                    Paranormal\n",
      "25    Parents & Family              Moms & Dads\n",
      "26    Pets & Animals                Pets\n",
      "27    Photography                   Photography\n",
      "28    Religion & Beliefs            Beliefs\n",
      "29    Sci-Fi & Fantasy              Sci fi\n",
      "30    Singles                       Singles\n",
      "31    Socializing                   Social\n",
      "32    Sports & Recreation           Sports\n",
      "33    Support                       Support\n",
      "34    Tech                          Tech\n",
      "36    Writing                       Writing\n"
     ]
    }
   ],
   "source": [
    "results = categories.results\n",
    "print(\"ID\\tName\\t\\t\\t\\tShort Name\")\n",
    "for result in results:\n",
    "    print(f\"{result['id']:<5} {result['name']:<30}{result['shortname']}\")"
   ]
  },
  {
   "cell_type": "markdown",
   "metadata": {},
   "source": [
    "---"
   ]
  },
  {
   "cell_type": "markdown",
   "metadata": {},
   "source": [
    "## Explore Cities"
   ]
  },
  {
   "cell_type": "code",
   "execution_count": 8,
   "metadata": {},
   "outputs": [
    {
     "name": "stdout",
     "output_type": "stream",
     "text": [
      "29/30 (10 seconds remaining)\n"
     ]
    }
   ],
   "source": [
    "cities_resp = client.GetCities(country='Canada', query='Vancouver')"
   ]
  },
  {
   "cell_type": "code",
   "execution_count": 9,
   "metadata": {},
   "outputs": [
    {
     "data": {
      "text/plain": [
       "{'next': '',\n",
       " 'method': 'Cities',\n",
       " 'total_count': 2,\n",
       " 'link': 'https://api.meetup.com/2/cities',\n",
       " 'count': 2,\n",
       " 'description': \"Returns Meetup cities. This method supports search by latitude/longitude/radius, by country/state, by query term/zip, or a combination of all of these. Location-only searches by lat and lon return all cities within a radius of the provided coordinates. Searches with a query return up to 10 cities matching the term, and can be sorted by size or distance to a given coordinate. 'smart' ordering can be used to return the match(es) with the highest member_count, unless a smaller size match exists nearby the given coordinates. Query searches are supported for country but not country and state\",\n",
       " 'lon': 'None',\n",
       " 'title': 'Cities',\n",
       " 'url': 'https://api.meetup.com/2/cities?offset=0&query=Vancouver&format=json&page=200&radius=50&key=48f48112b3058e21767448548572a&order=size&desc=false',\n",
       " 'id': '',\n",
       " 'updated': 1263132772000,\n",
       " 'lat': 'None'}"
      ]
     },
     "execution_count": 9,
     "metadata": {},
     "output_type": "execute_result"
    }
   ],
   "source": [
    "cities_resp.meta"
   ]
  },
  {
   "cell_type": "code",
   "execution_count": 10,
   "metadata": {},
   "outputs": [
    {
     "name": "stdout",
     "output_type": "stream",
     "text": [
      "ERROR: Vancouver already in dictionary!\n"
     ]
    }
   ],
   "source": [
    "cities = {}\n",
    "\n",
    "cities_result = cities_resp.results\n",
    "\n",
    "for result in cities_result:\n",
    "    city = result['city']\n",
    "    if city in cities:\n",
    "        print(f\"ERROR: {city} already in dictionary!\")\n",
    "    else:\n",
    "        cities[result['city']] = result"
   ]
  },
  {
   "cell_type": "code",
   "execution_count": 11,
   "metadata": {},
   "outputs": [
    {
     "data": {
      "text/plain": [
       "['Vancouver']"
      ]
     },
     "execution_count": 11,
     "metadata": {},
     "output_type": "execute_result"
    }
   ],
   "source": [
    "city_names = list(cities.keys())\n",
    "sorted(city_names)"
   ]
  },
  {
   "cell_type": "markdown",
   "metadata": {},
   "source": [
    "---"
   ]
  },
  {
   "cell_type": "markdown",
   "metadata": {},
   "source": [
    "## Explore Groups"
   ]
  },
  {
   "cell_type": "code",
   "execution_count": 12,
   "metadata": {},
   "outputs": [
    {
     "name": "stdout",
     "output_type": "stream",
     "text": [
      "29/30 (10 seconds remaining)\n"
     ]
    }
   ],
   "source": [
    "# searching for Vancouver, Canda tech groups\n",
    "group_resp = client.GetGroups(category_id=34, city='Vancouver', country='ca', offset=0)"
   ]
  },
  {
   "cell_type": "code",
   "execution_count": 13,
   "metadata": {},
   "outputs": [
    {
     "data": {
      "text/plain": [
       "{'next': 'https://api.meetup.com/2/groups?country=ca&offset=1&city=Vancouver&format=json&lon=-123.040000916&category_id=34&page=200&radius=25.0&fields=&key=48f48112b3058e21767448548572a&lat=49.2799987793&order=id&desc=false',\n",
       " 'method': 'Groups',\n",
       " 'total_count': 431,\n",
       " 'link': 'https://api.meetup.com/2/groups',\n",
       " 'count': 200,\n",
       " 'description': 'None',\n",
       " 'lon': -123.04000091552734,\n",
       " 'title': 'Meetup Groups v2',\n",
       " 'url': 'https://api.meetup.com/2/groups?country=ca&offset=0&city=Vancouver&format=json&lon=-123.040000916&category_id=34&page=200&radius=25.0&fields=&key=48f48112b3058e21767448548572a&lat=49.2799987793&order=id&desc=false',\n",
       " 'id': '',\n",
       " 'updated': 1550467752000,\n",
       " 'lat': 49.279998779296875}"
      ]
     },
     "execution_count": 13,
     "metadata": {},
     "output_type": "execute_result"
    }
   ],
   "source": [
    "group_resp.meta"
   ]
  },
  {
   "cell_type": "code",
   "execution_count": 16,
   "metadata": {},
   "outputs": [
    {
     "data": {
      "text/plain": [
       "[{'utc_offset': -28800000,\n",
       "  'country': 'CA',\n",
       "  'visibility': 'public',\n",
       "  'city': 'Vancouver',\n",
       "  'timezone': 'Canada/Pacific',\n",
       "  'created': 1034097731000,\n",
       "  'topics': [{'urlkey': 'smallbiz', 'name': 'Small Business', 'id': 389},\n",
       "   {'urlkey': 'marketing', 'name': 'Marketing', 'id': 1238},\n",
       "   {'urlkey': 'socialnetwork', 'name': 'Social Networking', 'id': 4422},\n",
       "   {'urlkey': 'wordpress', 'name': 'WordPress', 'id': 8304},\n",
       "   {'urlkey': 'creative-writing', 'name': 'Creative Writing', 'id': 15322},\n",
       "   {'urlkey': 'social-media', 'name': 'Social Media', 'id': 15401},\n",
       "   {'urlkey': 'online-marketing', 'name': 'Online Marketing', 'id': 15585},\n",
       "   {'urlkey': 'professional-networking',\n",
       "    'name': 'Professional Networking',\n",
       "    'id': 15720},\n",
       "   {'urlkey': 'writing', 'name': 'Writing', 'id': 16728},\n",
       "   {'urlkey': 'small-business-marketing-strategy',\n",
       "    'name': 'Small Business Marketing Strategy',\n",
       "    'id': 17325},\n",
       "   {'urlkey': 'social-media-marketing',\n",
       "    'name': 'Social Media Marketing',\n",
       "    'id': 17742},\n",
       "   {'urlkey': 'writing-workshops', 'name': 'Writing Workshops', 'id': 18167},\n",
       "   {'urlkey': 'entrepreneurship', 'name': 'Entrepreneurship', 'id': 19882},\n",
       "   {'urlkey': 'seo-search-engine-optimization',\n",
       "    'name': 'SEO (Search Engine Optimization)',\n",
       "    'id': 23199},\n",
       "   {'urlkey': 'blogs', 'name': 'Blogging', 'id': 44508}],\n",
       "  'link': 'https://www.meetup.com/The-Vancouver-Blogger-Meetup-Group/',\n",
       "  'rating': 4.32,\n",
       "  'description': '<p><span>The Vancouver Blogger Meetup Group is a platform where blogger and social media professionals and enthusiasts interact and network. This platform aims to be a reference and provide valuable information to graduates, professionals, small and medium sized businesses.&nbsp;<br><br>We are currently working on revitalizing this MeetUp Group and will soon bring up some topics for Meetups. Please, join our group and feel free to contact us at any time. Stay tuned!&nbsp;<br><br>Thank you and enjoy!</span></p>',\n",
       "  'lon': -123.12999725341797,\n",
       "  'group_photo': {'highres_link': 'https://secure.meetupstatic.com/photos/event/2/4/f/f/highres_438549471.jpeg',\n",
       "   'photo_id': 438549471,\n",
       "   'base_url': 'https://secure.meetupstatic.com',\n",
       "   'type': 'event',\n",
       "   'photo_link': 'https://secure.meetupstatic.com/photos/event/2/4/f/f/600_438549471.jpeg',\n",
       "   'thumb_link': 'https://secure.meetupstatic.com/photos/event/2/4/f/f/thumb_438549471.jpeg'},\n",
       "  'join_mode': 'approval',\n",
       "  'organizer': {'member_id': 66805072,\n",
       "   'name': 'Fabiano Maciel',\n",
       "   'photo': {'highres_link': 'https://secure.meetupstatic.com/photos/member/c/b/3/3/highres_242992019.jpeg',\n",
       "    'photo_id': 242992019,\n",
       "    'base_url': 'https://secure.meetupstatic.com',\n",
       "    'type': 'member',\n",
       "    'photo_link': 'https://secure.meetupstatic.com/photos/member/c/b/3/3/member_242992019.jpeg',\n",
       "    'thumb_link': 'https://secure.meetupstatic.com/photos/member/c/b/3/3/thumb_242992019.jpeg'}},\n",
       "  'members': 652,\n",
       "  'name': 'The Vancouver Blogger Meetup Group',\n",
       "  'id': 21636,\n",
       "  'state': 'BC',\n",
       "  'urlname': 'The-Vancouver-Blogger-Meetup-Group',\n",
       "  'category': {'name': 'tech', 'id': 34, 'shortname': 'tech'},\n",
       "  'lat': 49.279998779296875,\n",
       "  'who': 'Friends'}]"
      ]
     },
     "execution_count": 16,
     "metadata": {},
     "output_type": "execute_result"
    }
   ],
   "source": [
    "group_resp.results[:1]"
   ]
  },
  {
   "cell_type": "code",
   "execution_count": null,
   "metadata": {},
   "outputs": [],
   "source": []
  }
 ],
 "metadata": {
  "kernelspec": {
   "display_name": "Python 3",
   "language": "python",
   "name": "python3"
  },
  "language_info": {
   "codemirror_mode": {
    "name": "ipython",
    "version": 3
   },
   "file_extension": ".py",
   "mimetype": "text/x-python",
   "name": "python",
   "nbconvert_exporter": "python",
   "pygments_lexer": "ipython3",
   "version": "3.7.2"
  },
  "toc": {
   "base_numbering": 1,
   "nav_menu": {},
   "number_sections": false,
   "sideBar": true,
   "skip_h1_title": false,
   "title_cell": "Table of Contents",
   "title_sidebar": "Contents",
   "toc_cell": false,
   "toc_position": {},
   "toc_section_display": true,
   "toc_window_display": true
  }
 },
 "nbformat": 4,
 "nbformat_minor": 2
}
